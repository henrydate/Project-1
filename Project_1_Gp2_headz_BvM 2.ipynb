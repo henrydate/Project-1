{
 "cells": [
  {
   "cell_type": "code",
   "execution_count": 15,
   "id": "4fb2d39a-a21e-4d3e-8003-f6aba02f159e",
   "metadata": {},
   "outputs": [
    {
     "name": "stdin",
     "output_type": "stream",
     "text": [
      "Enter your first name:   Brendan\n",
      "Enter your last name:   van Maanen\n",
      "How old are you:   25\n"
     ]
    }
   ],
   "source": [
    "n1 = str(input('Enter your first name:  '))\n",
    "n2 = str(input('Enter your last name:  '))\n",
    "n3 = int(input('How old are you:  '))"
   ]
  },
  {
   "cell_type": "code",
   "execution_count": 29,
   "id": "13f13e0a-dcf8-4030-9599-421d4587ec04",
   "metadata": {},
   "outputs": [
    {
     "ename": "SyntaxError",
     "evalue": "unexpected EOF while parsing (1992603145.py, line 1)",
     "output_type": "error",
     "traceback": [
      "\u001b[0;36m  Input \u001b[0;32mIn [29]\u001b[0;36m\u001b[0m\n\u001b[0;31m    print('Thanks', n1, '. As you are', n3, 'years old we need to ask a couple more questions to create a portfolio that suits your requirements'\u001b[0m\n\u001b[0m                                                                                                                                                 ^\u001b[0m\n\u001b[0;31mSyntaxError\u001b[0m\u001b[0;31m:\u001b[0m unexpected EOF while parsing\n"
     ]
    }
   ],
   "source": [
    "print('Thanks', n1, '. As you are', n3, 'years old we need to ask a couple more questions to create a portfolio that suits your requirements'"
   ]
  },
  {
   "cell_type": "code",
   "execution_count": null,
   "id": "8ee2cbc3-f1ac-4655-8abc-0f145e31a10f",
   "metadata": {},
   "outputs": [],
   "source": []
  }
 ],
 "metadata": {
  "kernelspec": {
   "display_name": "Python 3 (ipykernel)",
   "language": "python",
   "name": "python3"
  },
  "language_info": {
   "codemirror_mode": {
    "name": "ipython",
    "version": 3
   },
   "file_extension": ".py",
   "mimetype": "text/x-python",
   "name": "python",
   "nbconvert_exporter": "python",
   "pygments_lexer": "ipython3",
   "version": "3.9.12"
  }
 },
 "nbformat": 4,
 "nbformat_minor": 5
}
