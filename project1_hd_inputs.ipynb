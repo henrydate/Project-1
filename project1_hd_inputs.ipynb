{
 "cells": [
  {
   "cell_type": "code",
   "execution_count": 13,
   "id": "b35fcf06-a7f2-4d97-8b85-89a12de4e6c2",
   "metadata": {},
   "outputs": [],
   "source": [
    "# Import libraries and dependencies\n",
    "import os\n",
    "import numpy as np\n",
    "import pandas as pd\n",
    "import yfinance as yf\n",
    "import alpaca_trade_api as tradeapi\n",
    "from MCForecastTools import MCSimulation\n",
    "\n",
    "%matplotlib inline"
   ]
  },
  {
   "cell_type": "code",
   "execution_count": 14,
   "id": "65781c2a-450b-49c0-8540-47d8f6dbfc06",
   "metadata": {},
   "outputs": [
    {
     "name": "stdin",
     "output_type": "stream",
     "text": [
      "Enter your first name:   Henry \n",
      "Enter your last name:   Date\n",
      "How old are you:   24\n",
      "Are you risk averse or risk loving?:   risk loving\n"
     ]
    },
    {
     "name": "stdout",
     "output_type": "stream",
     "text": [
      "\"\n",
      "Hi Henry  Date and welcome to X financial services. In Australia the average retirement age is 67.\n",
      "As you are 24 years old, you have 43 years remaining until retirement. \n",
      "To give your nest egg the best opportunity financially, we have provided some suggestions.\n",
      "\n",
      "Using the details provided above, we suggest that you adopt a risk perference of 5 to meet your desired retirement goals.\n",
      "\n"
     ]
    }
   ],
   "source": [
    "retirement_age = 67\n",
    "\n",
    "n1 = str(input('Enter your first name:  '))\n",
    "n2 = str(input('Enter your last name:  '))\n",
    "n3 = int(input('How old are you:  '))\n",
    "n4 = str(input('Are you risk averse or risk loving?:  '))\n",
    "n4 = n4.lower()\n",
    "\n",
    "if n3 >= 62 and n4 == 'risk averse':\n",
    "    risk = 1\n",
    "elif n3 >= 57 and n4 == 'risk averse':\n",
    "    risk = 2\n",
    "elif n3 >= 52 and n4 == 'risk averse':\n",
    "    risk = 3 \n",
    "elif n3 >= 32 and n4 == 'risk averse':\n",
    "    risk = 3 \n",
    "elif n3 >= 0 and n4 == 'risk averse':\n",
    "    risk = 4 \n",
    "elif n3 >= 62 and n4 == 'risk loving':\n",
    "    risk = 3\n",
    "elif n3 >= 57 and n4 == 'risk loving':\n",
    "    risk = 4\n",
    "elif n3 >= 52 and n4 == 'risk loving':\n",
    "    risk = 4 \n",
    "elif n3 >= 32 and n4 == 'risk loving':\n",
    "    risk = 5\n",
    "elif n3 >= 0 and n4 == 'risk loving':\n",
    "    risk = 5\n",
    "suggested_risk = risk\n",
    "\n",
    "print(f\"\"\"\"\n",
    "Hi {n1} {n2} and welcome to X financial services. In Australia the average retirement age is 67.\n",
    "As you are {n3} years old, you have {retirement_age - n3} years remaining until retirement. \n",
    "To give your nest egg the best opportunity financially, we have provided some suggestions.\n",
    "\n",
    "Using the details provided above, we suggest that you adopt a risk perference of {suggested_risk} to meet your desired retirement goals.\n",
    "\"\"\")\n",
    "\n"
   ]
  },
  {
   "cell_type": "code",
   "execution_count": null,
   "id": "a681ceb4-e782-4ae4-9176-77e954e3d782",
   "metadata": {},
   "outputs": [],
   "source": [
    "n6 = int(input('Enter your risk preference, (1 being low risk, 5 high risk):  '))"
   ]
  }
 ],
 "metadata": {
  "kernelspec": {
   "display_name": "Python 3 (ipykernel)",
   "language": "python",
   "name": "python3"
  },
  "language_info": {
   "codemirror_mode": {
    "name": "ipython",
    "version": 3
   },
   "file_extension": ".py",
   "mimetype": "text/x-python",
   "name": "python",
   "nbconvert_exporter": "python",
   "pygments_lexer": "ipython3",
   "version": "3.7.13"
  }
 },
 "nbformat": 4,
 "nbformat_minor": 5
}
