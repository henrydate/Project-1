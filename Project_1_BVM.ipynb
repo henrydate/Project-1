{
 "cells": [
  {
   "cell_type": "markdown",
   "id": "aca97b3d-029b-42bd-a101-0277a68b50eb",
   "metadata": {},
   "source": [
    "# Project 1 Group 2: Financial Investment Analyzer"
   ]
  },
  {
   "cell_type": "code",
   "execution_count": null,
   "id": "98f39187-c2d8-4069-854d-7ff422db8871",
   "metadata": {},
   "outputs": [],
   "source": []
  },
  {
   "cell_type": "markdown",
   "id": "ee348a64-0fff-4822-bc4a-f6fe079f51b7",
   "metadata": {},
   "source": [
    "## Hello, let's begin your financial investment journey by telling us a bit about yourself."
   ]
  },
  {
   "cell_type": "markdown",
   "id": "5206f49a-0f5b-4767-9f55-d5b78921e381",
   "metadata": {},
   "source": [
    "### Please press shift + return to proceed."
   ]
  },
  {
   "cell_type": "code",
   "execution_count": null,
   "id": "4fb2d39a-a21e-4d3e-8003-f6aba02f159e",
   "metadata": {},
   "outputs": [],
   "source": [
    "n1 = str(input('Please enter your first name:  '))\n",
    "n2 = str(input('And your last name:  '))\n",
    "n3 = int(input('How old are you:  '))"
   ]
  },
  {
   "cell_type": "markdown",
   "id": "9a72c278-6eec-47bb-b8ff-8e5055515fb3",
   "metadata": {},
   "source": []
  },
  {
   "cell_type": "code",
   "execution_count": null,
   "id": "13f13e0a-dcf8-4030-9599-421d4587ec04",
   "metadata": {
    "tags": []
   },
   "outputs": [],
   "source": [
    "n4 = 65 - n3\n",
    "print('Thanks', n1, '.','As you are', n3, 'years old and have', n4, 'years to retirement we need to ask a couple more questions to give you the best investment recommendation.')"
   ]
  },
  {
   "cell_type": "markdown",
   "id": "6bc455ff-4d63-48e0-9566-6c4df71dec6e",
   "metadata": {},
   "source": [
    "## To help shape your portfolio please chose which statement best reflects your investing comfort zone."
   ]
  },
  {
   "cell_type": "code",
   "execution_count": null,
   "id": "ada66de4-3320-4aee-90ef-6995089baf0b",
   "metadata": {},
   "outputs": [],
   "source": [
    "\n",
    "print('1. I do not want to lose my money, I would rather have a low return than risk the loss of any part of my capital.')\n",
    "print('2. I prefer stablity then to exposure to market fluctuations.')\n",
    "print('3. I can accept a degree of market fluctation to achieve better results')\n",
    "print('4. I am willing to accept short to mid term fluctuations to achieve better long-term returns.')\n",
    "print('5. To receive the maximum return on my investment, I am willing to accept a higher degree of risk.')\n",
    "print()\n",
    "n5 = str(input('Please enter: 1, 2, 3, 4 or 5 to select which best represents your investment comfort zone:   '))"
   ]
  },
  {
   "cell_type": "code",
   "execution_count": null,
   "id": "5dcd1d7b-1c5c-4197-90bc-dc1030e88d86",
   "metadata": {},
   "outputs": [],
   "source": [
    "n6 = int(input('Please enter the sum you want to initially invest: $'))"
   ]
  },
  {
   "cell_type": "code",
   "execution_count": null,
   "id": "15516e36-1b2d-4fa2-942b-938d4dfcf37d",
   "metadata": {},
   "outputs": [],
   "source": [
    "risk = n5\n",
    "\n",
    "if risk == 1:\n",
    "    weights = [0.20,0.20,0.20,0.20,0.20,0.00,0.00,0.00,0.00,0.00]\n",
    "elif risk == 2:\n",
    "    weights = [0.20,0.20,0.20,0.15,0.10,0.05,0.05,0.05,0.00,0.00]\n",
    "elif risk == 3:\n",
    "    weights = [0.10,0.10,0.10,0.10,0.10,0.10,0.10,0.10,0.10,0.10]\n",
    "elif risk == 4:\n",
    "    weights = [0.00,0.00,0.05,0.05,0.05,0.10,0.15,0.20,0.20,0.20]\n",
    "elif risk == 5:\n",
    "    weights = [0.00,0.00,0.00,0.00,0.00,0.20,0.20,0.20,0.20,0.20]"
   ]
  }
 ],
 "metadata": {
  "kernelspec": {
   "display_name": "Python 3 (ipykernel)",
   "language": "python",
   "name": "python3"
  },
  "language_info": {
   "codemirror_mode": {
    "name": "ipython",
    "version": 3
   },
   "file_extension": ".py",
   "mimetype": "text/x-python",
   "name": "python",
   "nbconvert_exporter": "python",
   "pygments_lexer": "ipython3",
   "version": "3.9.12"
  }
 },
 "nbformat": 4,
 "nbformat_minor": 5
}
