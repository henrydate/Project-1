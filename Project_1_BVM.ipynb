{
 "cells": [
  {
   "cell_type": "markdown",
   "id": "aca97b3d-029b-42bd-a101-0277a68b50eb",
   "metadata": {},
   "source": [
    "# Project 1 Group 2: Financial Investment Analyzer"
   ]
  },
  {
   "cell_type": "markdown",
   "id": "ee348a64-0fff-4822-bc4a-f6fe079f51b7",
   "metadata": {},
   "source": [
    "## Hello, let's begin your financial investment journey by telling us a bit about yourself."
   ]
  },
  {
   "cell_type": "markdown",
   "id": "5206f49a-0f5b-4767-9f55-d5b78921e381",
   "metadata": {},
   "source": [
    "#### Please press shift + return to proceed."
   ]
  },
  {
   "cell_type": "code",
   "execution_count": 107,
   "id": "4fb2d39a-a21e-4d3e-8003-f6aba02f159e",
   "metadata": {
    "tags": []
   },
   "outputs": [
    {
     "name": "stdin",
     "output_type": "stream",
     "text": [
      "Please enter your first name:   Dan\n",
      "And your last name:   Danno\n",
      "How old are you:   65\n"
     ]
    }
   ],
   "source": [
    "# Collect first and last name and age inputs.\n",
    "\n",
    "n1 = str(input('Please enter your first name:  '))\n",
    "n2 = str(input('And your last name:  '))\n",
    "n3 = int(input('How old are you:  '))"
   ]
  },
  {
   "cell_type": "code",
   "execution_count": 108,
   "id": "13f13e0a-dcf8-4030-9599-421d4587ec04",
   "metadata": {
    "tags": []
   },
   "outputs": [
    {
     "name": "stdout",
     "output_type": "stream",
     "text": [
      "Thanks Dan As you are 65 years old, and have 2 years to retirement we should review a couple of things to give you the best investment recommendation.\n"
     ]
    }
   ],
   "source": [
    "##Calculate years to retire, based on 67 years.\n",
    "#Print name, age, retirement statement.\n",
    "\n",
    "ytr = 67 - age\n",
    "print('Thanks', n1,'As you are', n3, 'years old, and have', n4, 'years to retirement we should review a couple of things to give you the best investment recommendation.')"
   ]
  },
  {
   "cell_type": "markdown",
   "id": "6bc455ff-4d63-48e0-9566-6c4df71dec6e",
   "metadata": {},
   "source": [
    "## To help shape your portfolio please chose which statement best reflects your investing comfort zone.\n",
    "#### (Please note: Option 1 is the least aggressive investment strategy, and 5 is the riskiest: high risk, with the potential for high returns.)"
   ]
  },
  {
   "cell_type": "code",
   "execution_count": 119,
   "id": "ada66de4-3320-4aee-90ef-6995089baf0b",
   "metadata": {
    "tags": []
   },
   "outputs": [
    {
     "name": "stdout",
     "output_type": "stream",
     "text": [
      "\n",
      "dan it is important that you are comfortable with how your money is invested and the level of risk and reward. \n",
      "\n",
      "More stable investments tend to have lower growth, whilst high growth investments have a higher associated risk. Which of the following statements best represents how you feel when investing your money:\n",
      "\n",
      "1. I do not want to lose my money, I would rather have a low return than risk the loss of any part of my capital.\n",
      "2. I prefer an amount of stablity, watching the market fluctuate makes me feel sick.\n",
      "3. I can accept a degree of market fluctation to achieve better results\n",
      "4. I am willing to accept moderate market fluctuations to achieve better returns.\n",
      "5. To receive the maximum return on my investment, I am willing to accept a higher investmemt fluctuations and a high degree of risk.\n",
      "\n",
      "Please choose one of the above statements that best represents your comfort level for investing.\n"
     ]
    },
    {
     "name": "stdin",
     "output_type": "stream",
     "text": [
      "My risk investment comfort level is: 1\n"
     ]
    }
   ],
   "source": [
    "# Outline risk profiles and identify client's risk investment comfort level\n",
    "\n",
    "print(f\"\"\"\n",
    "{n1} it is important that you are comfortable with how your money is invested and the level of risk and reward. \n",
    "\n",
    "More stable investments tend to have lower growth, whilst high growth investments have a higher associated risk. Which of the following statements best represents how you feel when investing your money:\n",
    "\n",
    "1. I do not want to lose my money, I would rather have a low return than risk the loss of any part of my capital.\n",
    "2. I prefer an amount of stablity, watching the market fluctuate makes me feel sick.\n",
    "3. I can accept a degree of market fluctation to achieve better results\n",
    "4. I am willing to accept moderate market fluctuations to achieve better returns.\n",
    "5. To receive the maximum return on my investment, I am willing to accept a higher investmemt fluctuations and a high degree of risk.\n",
    "\n",
    "Please choose one of the above statements that best represents your comfort level for investing.\"\"\")\n",
    "\n",
    "\n",
    "R = str(input('My risk investment comfort level is:'))"
   ]
  },
  {
   "cell_type": "markdown",
   "id": "76e1dda2-3577-4322-9773-3f31143a231e",
   "metadata": {},
   "source": [
    "## How much do you have to begin your portfolio with?"
   ]
  },
  {
   "cell_type": "code",
   "execution_count": null,
   "id": "5dcd1d7b-1c5c-4197-90bc-dc1030e88d86",
   "metadata": {
    "tags": []
   },
   "outputs": [],
   "source": [
    "n7 = int(input('Please enter the sum you want to initially invest: $'))"
   ]
  },
  {
   "cell_type": "code",
   "execution_count": null,
   "id": "15516e36-1b2d-4fa2-942b-938d4dfcf37d",
   "metadata": {},
   "outputs": [],
   "source": [
    "risk = n5\n",
    "\n",
    "if risk == 1:\n",
    "    weights = [0.20,0.20,0.20,0.20,0.20,0.00,0.00,0.00,0.00,0.00]\n",
    "elif risk == 2:\n",
    "    weights = [0.20,0.20,0.20,0.15,0.10,0.05,0.05,0.05,0.00,0.00]\n",
    "elif risk == 3:\n",
    "    weights = [0.10,0.10,0.10,0.10,0.10,0.10,0.10,0.10,0.10,0.10]\n",
    "elif risk == 4:\n",
    "    weights = [0.00,0.00,0.05,0.05,0.05,0.10,0.15,0.20,0.20,0.20]\n",
    "elif risk == 5:\n",
    "    weights = [0.00,0.00,0.00,0.00,0.00,0.20,0.20,0.20,0.20,0.20]"
   ]
  }
 ],
 "metadata": {
  "kernelspec": {
   "display_name": "Python 3 (ipykernel)",
   "language": "python",
   "name": "python3"
  },
  "language_info": {
   "codemirror_mode": {
    "name": "ipython",
    "version": 3
   },
   "file_extension": ".py",
   "mimetype": "text/x-python",
   "name": "python",
   "nbconvert_exporter": "python",
   "pygments_lexer": "ipython3",
   "version": "3.9.12"
  }
 },
 "nbformat": 4,
 "nbformat_minor": 5
}
